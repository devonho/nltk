#%mathplotlib inline

#import matplotlib.pyplot as plot

#plot.plot([1,2,3],[1,2,3])

print('Hello World')